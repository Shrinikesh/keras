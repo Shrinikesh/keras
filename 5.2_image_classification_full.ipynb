{
 "cells": [
  {
   "cell_type": "markdown",
   "metadata": {},
   "source": [
    "### Start by definining network architecture"
   ]
  },
  {
   "cell_type": "code",
   "execution_count": 11,
   "metadata": {},
   "outputs": [],
   "source": [
    "%matplotlib inline"
   ]
  },
  {
   "cell_type": "code",
   "execution_count": 1,
   "metadata": {},
   "outputs": [],
   "source": [
    "import os\n",
    "base_dir = '/home/ubuntu/deep-learning/cats_vs_dogs'\n",
    "# Making folders to store the training, test and validation data\n",
    "train_dir = os.path.join(base_dir, 'train')\n",
    "validation_dir = os.path.join(base_dir, 'validation')\n",
    "test_dir = os.path.join(base_dir, 'test')"
   ]
  },
  {
   "cell_type": "code",
   "execution_count": 2,
   "metadata": {},
   "outputs": [
    {
     "name": "stderr",
     "output_type": "stream",
     "text": [
      "Using TensorFlow backend.\n"
     ]
    },
    {
     "name": "stdout",
     "output_type": "stream",
     "text": [
      "WARNING:tensorflow:From /home/ubuntu/anaconda3/envs/tensorflow_p36/lib/python3.6/site-packages/tensorflow_core/__init__.py:1467: The name tf.estimator.inputs is deprecated. Please use tf.compat.v1.estimator.inputs instead.\n",
      "\n",
      "WARNING:tensorflow:From /home/ubuntu/anaconda3/envs/tensorflow_p36/lib/python3.6/site-packages/keras/backend/tensorflow_backend.py:74: The name tf.get_default_graph is deprecated. Please use tf.compat.v1.get_default_graph instead.\n",
      "\n",
      "WARNING:tensorflow:From /home/ubuntu/anaconda3/envs/tensorflow_p36/lib/python3.6/site-packages/keras/backend/tensorflow_backend.py:517: The name tf.placeholder is deprecated. Please use tf.compat.v1.placeholder instead.\n",
      "\n",
      "WARNING:tensorflow:From /home/ubuntu/anaconda3/envs/tensorflow_p36/lib/python3.6/site-packages/keras/backend/tensorflow_backend.py:4138: The name tf.random_uniform is deprecated. Please use tf.random.uniform instead.\n",
      "\n",
      "WARNING:tensorflow:From /home/ubuntu/anaconda3/envs/tensorflow_p36/lib/python3.6/site-packages/keras/backend/tensorflow_backend.py:3976: The name tf.nn.max_pool is deprecated. Please use tf.nn.max_pool2d instead.\n",
      "\n"
     ]
    }
   ],
   "source": [
    "from keras import models\n",
    "from keras import layers\n",
    "\n",
    "model = models.Sequential()\n",
    "model.add(layers.Conv2D(32, (3,3), activation='relu', input_shape= (150,150,3)))\n",
    "model.add(layers.MaxPooling2D((2,2)))\n",
    "model.add(layers.Conv2D(64,(3,3), activation='relu'))\n",
    "model.add(layers.MaxPooling2D((2,2)))\n",
    "model.add(layers.Conv2D(128,(3,3), activation='relu'))\n",
    "model.add(layers.MaxPooling2D((2,2)))\n",
    "model.add(layers.Conv2D(128,(3,3), activation='relu'))\n",
    "model.add(layers.MaxPooling2D((2,2)))\n",
    "model.add(layers.Flatten())\n",
    "model.add(layers.Dense(512, activation='relu'))\n",
    "model.add(layers.Dense(1,activation='sigmoid'))\n",
    "\n"
   ]
  },
  {
   "cell_type": "code",
   "execution_count": 3,
   "metadata": {},
   "outputs": [
    {
     "name": "stdout",
     "output_type": "stream",
     "text": [
      "_________________________________________________________________\n",
      "Layer (type)                 Output Shape              Param #   \n",
      "=================================================================\n",
      "conv2d_1 (Conv2D)            (None, 148, 148, 32)      896       \n",
      "_________________________________________________________________\n",
      "max_pooling2d_1 (MaxPooling2 (None, 74, 74, 32)        0         \n",
      "_________________________________________________________________\n",
      "conv2d_2 (Conv2D)            (None, 72, 72, 64)        18496     \n",
      "_________________________________________________________________\n",
      "max_pooling2d_2 (MaxPooling2 (None, 36, 36, 64)        0         \n",
      "_________________________________________________________________\n",
      "conv2d_3 (Conv2D)            (None, 34, 34, 128)       73856     \n",
      "_________________________________________________________________\n",
      "max_pooling2d_3 (MaxPooling2 (None, 17, 17, 128)       0         \n",
      "_________________________________________________________________\n",
      "conv2d_4 (Conv2D)            (None, 15, 15, 128)       147584    \n",
      "_________________________________________________________________\n",
      "max_pooling2d_4 (MaxPooling2 (None, 7, 7, 128)         0         \n",
      "_________________________________________________________________\n",
      "flatten_1 (Flatten)          (None, 6272)              0         \n",
      "_________________________________________________________________\n",
      "dense_1 (Dense)              (None, 512)               3211776   \n",
      "_________________________________________________________________\n",
      "dense_2 (Dense)              (None, 1)                 513       \n",
      "=================================================================\n",
      "Total params: 3,453,121\n",
      "Trainable params: 3,453,121\n",
      "Non-trainable params: 0\n",
      "_________________________________________________________________\n"
     ]
    }
   ],
   "source": [
    "model.summary()"
   ]
  },
  {
   "cell_type": "markdown",
   "metadata": {},
   "source": [
    "### Initial convnet transforms input 150x150x3 to a 6272 dim feature vector that then goes through a dense network"
   ]
  },
  {
   "cell_type": "code",
   "execution_count": 4,
   "metadata": {},
   "outputs": [
    {
     "name": "stdout",
     "output_type": "stream",
     "text": [
      "WARNING:tensorflow:From /home/ubuntu/anaconda3/envs/tensorflow_p36/lib/python3.6/site-packages/keras/optimizers.py:790: The name tf.train.Optimizer is deprecated. Please use tf.compat.v1.train.Optimizer instead.\n",
      "\n",
      "WARNING:tensorflow:From /home/ubuntu/anaconda3/envs/tensorflow_p36/lib/python3.6/site-packages/keras/backend/tensorflow_backend.py:3376: The name tf.log is deprecated. Please use tf.math.log instead.\n",
      "\n",
      "WARNING:tensorflow:From /home/ubuntu/anaconda3/envs/tensorflow_p36/lib/python3.6/site-packages/tensorflow_core/python/ops/nn_impl.py:183: where (from tensorflow.python.ops.array_ops) is deprecated and will be removed in a future version.\n",
      "Instructions for updating:\n",
      "Use tf.where in 2.0, which has the same broadcast rule as np.where\n"
     ]
    }
   ],
   "source": [
    "from keras import optimizers\n",
    "\n",
    "model.compile(loss='binary_crossentropy', optimizer=optimizers.RMSprop(lr=1e-4),metrics=['acc'])"
   ]
  },
  {
   "cell_type": "markdown",
   "metadata": {},
   "source": [
    "### Model has been defined, but need to transform input and targets to suitable tensors first"
   ]
  },
  {
   "cell_type": "code",
   "execution_count": 5,
   "metadata": {},
   "outputs": [
    {
     "name": "stdout",
     "output_type": "stream",
     "text": [
      "Found 2000 images belonging to 2 classes.\n",
      "Found 1000 images belonging to 2 classes.\n"
     ]
    }
   ],
   "source": [
    "# we will use the ImageDataGenerator which generates batches of tensors of JPEG images\n",
    "from keras.preprocessing.image import ImageDataGenerator\n",
    "\n",
    "train_datagen = ImageDataGenerator(rescale=1./255)\n",
    "test_datagen = ImageDataGenerator(rescale=1./255)\n",
    "\n",
    "# Note that flow_from_directory excpects a directory that has the two classes of images in separate subdirectories\n",
    "# so we will point it at train_dir\n",
    "train_generator = train_datagen.flow_from_directory(train_dir, target_size=(150,150), batch_size=20, class_mode='binary')\n",
    "\n",
    "validation_generator = test_datagen.flow_from_directory(validation_dir, target_size=(150,150), batch_size=20, class_mode='binary')"
   ]
  },
  {
   "cell_type": "markdown",
   "metadata": {},
   "source": [
    "### Now to train the model"
   ]
  },
  {
   "cell_type": "code",
   "execution_count": 6,
   "metadata": {},
   "outputs": [
    {
     "name": "stdout",
     "output_type": "stream",
     "text": [
      "WARNING:tensorflow:From /home/ubuntu/anaconda3/envs/tensorflow_p36/lib/python3.6/site-packages/keras/backend/tensorflow_backend.py:986: The name tf.assign_add is deprecated. Please use tf.compat.v1.assign_add instead.\n",
      "\n",
      "WARNING:tensorflow:From /home/ubuntu/anaconda3/envs/tensorflow_p36/lib/python3.6/site-packages/keras/backend/tensorflow_backend.py:973: The name tf.assign is deprecated. Please use tf.compat.v1.assign instead.\n",
      "\n",
      "WARNING:tensorflow:From /home/ubuntu/anaconda3/envs/tensorflow_p36/lib/python3.6/site-packages/keras/backend/tensorflow_backend.py:2741: The name tf.Session is deprecated. Please use tf.compat.v1.Session instead.\n",
      "\n",
      "Epoch 1/30\n",
      "WARNING:tensorflow:From /home/ubuntu/anaconda3/envs/tensorflow_p36/lib/python3.6/site-packages/keras/backend/tensorflow_backend.py:174: The name tf.get_default_session is deprecated. Please use tf.compat.v1.get_default_session instead.\n",
      "\n",
      "WARNING:tensorflow:From /home/ubuntu/anaconda3/envs/tensorflow_p36/lib/python3.6/site-packages/keras/backend/tensorflow_backend.py:181: The name tf.ConfigProto is deprecated. Please use tf.compat.v1.ConfigProto instead.\n",
      "\n",
      "WARNING:tensorflow:From /home/ubuntu/anaconda3/envs/tensorflow_p36/lib/python3.6/site-packages/keras/backend/tensorflow_backend.py:190: The name tf.global_variables is deprecated. Please use tf.compat.v1.global_variables instead.\n",
      "\n",
      "WARNING:tensorflow:From /home/ubuntu/anaconda3/envs/tensorflow_p36/lib/python3.6/site-packages/keras/backend/tensorflow_backend.py:199: The name tf.is_variable_initialized is deprecated. Please use tf.compat.v1.is_variable_initialized instead.\n",
      "\n",
      "WARNING:tensorflow:From /home/ubuntu/anaconda3/envs/tensorflow_p36/lib/python3.6/site-packages/keras/backend/tensorflow_backend.py:206: The name tf.variables_initializer is deprecated. Please use tf.compat.v1.variables_initializer instead.\n",
      "\n",
      "100/100 [==============================] - 85s 852ms/step - loss: 0.6956 - acc: 0.5295 - val_loss: 0.6767 - val_acc: 0.5400\n",
      "Epoch 2/30\n",
      "100/100 [==============================] - 8s 77ms/step - loss: 0.6658 - acc: 0.6035 - val_loss: 0.6597 - val_acc: 0.5930\n",
      "Epoch 3/30\n",
      "100/100 [==============================] - 8s 79ms/step - loss: 0.6237 - acc: 0.6630 - val_loss: 0.6410 - val_acc: 0.6230\n",
      "Epoch 4/30\n",
      "100/100 [==============================] - 8s 79ms/step - loss: 0.5807 - acc: 0.6925 - val_loss: 0.6041 - val_acc: 0.6740\n",
      "Epoch 5/30\n",
      "100/100 [==============================] - 8s 81ms/step - loss: 0.5487 - acc: 0.7155 - val_loss: 0.6530 - val_acc: 0.6370\n",
      "Epoch 6/30\n",
      "100/100 [==============================] - 8s 78ms/step - loss: 0.5099 - acc: 0.7525 - val_loss: 0.6086 - val_acc: 0.6690\n",
      "Epoch 7/30\n",
      "100/100 [==============================] - 8s 77ms/step - loss: 0.4816 - acc: 0.7615 - val_loss: 0.5871 - val_acc: 0.6890\n",
      "Epoch 8/30\n",
      "100/100 [==============================] - 8s 78ms/step - loss: 0.4517 - acc: 0.7845 - val_loss: 0.6094 - val_acc: 0.6950\n",
      "Epoch 9/30\n",
      "100/100 [==============================] - 8s 78ms/step - loss: 0.4195 - acc: 0.8065 - val_loss: 0.5468 - val_acc: 0.7260\n",
      "Epoch 10/30\n",
      "100/100 [==============================] - 8s 79ms/step - loss: 0.3980 - acc: 0.8230 - val_loss: 0.5723 - val_acc: 0.7330\n",
      "Epoch 11/30\n",
      "100/100 [==============================] - 8s 79ms/step - loss: 0.3682 - acc: 0.8360 - val_loss: 0.5574 - val_acc: 0.7250\n",
      "Epoch 12/30\n",
      "100/100 [==============================] - 8s 77ms/step - loss: 0.3436 - acc: 0.8585 - val_loss: 0.6800 - val_acc: 0.6790\n",
      "Epoch 13/30\n",
      "100/100 [==============================] - 8s 77ms/step - loss: 0.3204 - acc: 0.8710 - val_loss: 0.6144 - val_acc: 0.7310\n",
      "Epoch 14/30\n",
      "100/100 [==============================] - 8s 78ms/step - loss: 0.2979 - acc: 0.8720 - val_loss: 0.5821 - val_acc: 0.7310\n",
      "Epoch 15/30\n",
      "100/100 [==============================] - 8s 80ms/step - loss: 0.2721 - acc: 0.8915 - val_loss: 0.6385 - val_acc: 0.7300\n",
      "Epoch 16/30\n",
      "100/100 [==============================] - 8s 77ms/step - loss: 0.2557 - acc: 0.8970 - val_loss: 0.6449 - val_acc: 0.7210\n",
      "Epoch 17/30\n",
      "100/100 [==============================] - 8s 80ms/step - loss: 0.2299 - acc: 0.9080 - val_loss: 0.6911 - val_acc: 0.7220\n",
      "Epoch 18/30\n",
      "100/100 [==============================] - 8s 78ms/step - loss: 0.2101 - acc: 0.9215 - val_loss: 0.6772 - val_acc: 0.7270\n",
      "Epoch 19/30\n",
      "100/100 [==============================] - 8s 78ms/step - loss: 0.1804 - acc: 0.9370 - val_loss: 0.7375 - val_acc: 0.7300\n",
      "Epoch 20/30\n",
      "100/100 [==============================] - 8s 78ms/step - loss: 0.1652 - acc: 0.9410 - val_loss: 0.7738 - val_acc: 0.7150\n",
      "Epoch 21/30\n",
      "100/100 [==============================] - 8s 78ms/step - loss: 0.1397 - acc: 0.9520 - val_loss: 0.8213 - val_acc: 0.7270\n",
      "Epoch 22/30\n",
      "100/100 [==============================] - 8s 78ms/step - loss: 0.1276 - acc: 0.9570 - val_loss: 0.8774 - val_acc: 0.7100\n",
      "Epoch 23/30\n",
      "100/100 [==============================] - 8s 78ms/step - loss: 0.1122 - acc: 0.9580 - val_loss: 0.8643 - val_acc: 0.7260\n",
      "Epoch 24/30\n",
      "100/100 [==============================] - 8s 78ms/step - loss: 0.1006 - acc: 0.9650 - val_loss: 0.8031 - val_acc: 0.7410\n",
      "Epoch 25/30\n",
      "100/100 [==============================] - 8s 80ms/step - loss: 0.0819 - acc: 0.9760 - val_loss: 0.9144 - val_acc: 0.7360\n",
      "Epoch 26/30\n",
      "100/100 [==============================] - 8s 78ms/step - loss: 0.0739 - acc: 0.9805 - val_loss: 0.9137 - val_acc: 0.7370\n",
      "Epoch 27/30\n",
      "100/100 [==============================] - 8s 78ms/step - loss: 0.0556 - acc: 0.9860 - val_loss: 1.1470 - val_acc: 0.7070\n",
      "Epoch 28/30\n",
      "100/100 [==============================] - 8s 81ms/step - loss: 0.0530 - acc: 0.9840 - val_loss: 0.9488 - val_acc: 0.7230\n",
      "Epoch 29/30\n",
      "100/100 [==============================] - 8s 79ms/step - loss: 0.0406 - acc: 0.9900 - val_loss: 1.0696 - val_acc: 0.7300\n",
      "Epoch 30/30\n",
      "100/100 [==============================] - 8s 77ms/step - loss: 0.0394 - acc: 0.9890 - val_loss: 1.0864 - val_acc: 0.7280\n"
     ]
    }
   ],
   "source": [
    "# using fit_generator here as we have batches generated by a generator  \n",
    "history = model.fit_generator(train_generator, steps_per_epoch = 100, epochs=30, validation_data = validation_generator, validation_steps=50)"
   ]
  },
  {
   "cell_type": "markdown",
   "metadata": {},
   "source": [
    "### Save the model "
   ]
  },
  {
   "cell_type": "code",
   "execution_count": 7,
   "metadata": {},
   "outputs": [],
   "source": [
    "model.save('cats_and_dogs_small_1.h5')"
   ]
  },
  {
   "cell_type": "markdown",
   "metadata": {},
   "source": [
    "### Plotting loss and accuracy during training now"
   ]
  },
  {
   "cell_type": "code",
   "execution_count": 23,
   "metadata": {},
   "outputs": [
    {
     "data": {
      "image/png": "[encoded data removed]",
      "text/plain": [
       "<Figure size 1080x720 with 2 Axes>"
      ]
     },
     "metadata": {},
     "output_type": "display_data"
    },
    {
     "data": {
      "text/plain": [
       "<Figure size 432x288 with 0 Axes>"
      ]
     },
     "metadata": {},
     "output_type": "display_data"
    }
   ],
   "source": [
    "import matplotlib.pyplot as plt\n",
    "\n",
    "fig, axs = plt.subplots(2, figsize=(15,10))\n",
    "acc = history.history['acc']\n",
    "val_acc = history.history['val_acc']\n",
    "loss= history.history['loss']\n",
    "val_loss= history.history['val_loss']\n",
    "\n",
    "epochs = range(1, len(acc)+1)\n",
    "\n",
    "axs[0].plot(epochs, acc, 'bo', label='Training Acc')\n",
    "axs[0].plot(epochs, val_acc, 'r+', label='Validation Acc')\n",
    "axs[0].set_title('Training and validation accuracy')\n",
    "axs[0].legend()\n",
    "plt.figure()\n",
    "\n",
    "axs[1].plot(epochs, loss, 'bo', label='Training Loss')\n",
    "axs[1].plot(epochs, val_loss, 'r+', label='Validation Loss')\n",
    "axs[1].set_title('Training and validation loss')\n",
    "axs[1].legend()\n",
    "\n",
    "plt.show()\n"
   ]
  },
  {
   "cell_type": "code",
   "execution_count": null,
   "metadata": {},
   "outputs": [],
   "source": []
  },
  {
   "cell_type": "code",
   "execution_count": null,
   "metadata": {},
   "outputs": [],
   "source": []
  }
 ],
 "metadata": {
  "kernelspec": {
   "display_name": "Environment (conda_tensorflow_p36)",
   "language": "python",
   "name": "conda_tensorflow_p36"
  },
  "language_info": {
   "codemirror_mode": {
    "name": "ipython",
    "version": 3
   },
   "file_extension": ".py",
   "mimetype": "text/x-python",
   "name": "python",
   "nbconvert_exporter": "python",
   "pygments_lexer": "ipython3",
   "version": "3.6.6"
  }
 },
 "nbformat": 4,
 "nbformat_minor": 4
}
